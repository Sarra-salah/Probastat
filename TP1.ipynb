{
 "cells": [
  {
   "cell_type": "markdown",
   "metadata": {},
   "source": [
    "\n",
    "# TP1 Probabilité et statistique\n",
    "<html>\n",
    "   <head>\n",
    "      <title>HTML Base Tag Example</title>\n",
    "      <base href = \"https://github.com/nevermind78/Proba_stat_4_LM\" />\n",
    "   </head>\n",
    "   <body>\n",
    "      <img src = \"https://th.bing.com/th/id/OIP.Quijt6_GuJ-OzuMSNQ_S1gHaHa?pid=Api&rs=1\" width=\"200\" alt = \"Logo Image\"/>\n",
    "    </body>\n",
    "\n",
    "</html>\n"
   ]
  },
  {
   "cell_type": "code",
   "execution_count": null,
   "metadata": {},
   "outputs": [],
   "source": [
    "from __future__ import print_function\n",
    "import numpy as np\n",
    "import pandas as pd\n",
    "from ipywidgets import interact, interactive, fixed, interact_manual\n",
    "import ipywidgets as widgets\n"
   ]
  },
  {
   "cell_type": "markdown",
   "metadata": {},
   "source": [
    "## Probabilités - approche fréquentiste\n",
    "### Définition par la fréquence relative :\n",
    "* une expérience d’ensemble fondamental  est exécutée plusieurs fois sous les mêmes conditions.\n",
    "* Pour chaque événement E de , n(E) est le nombre de fois où l’événement E survient lors des n premières répétitions de l’expérience.\n",
    "* P(E), la probabilité de l’événement E est définie de la manière suivante :\n",
    "\n",
    "$$P(E)=\\lim_{n\\to\\infty}\\dfrac{n(E)}{n} $$ "
   ]
  },
  {
   "cell_type": "markdown",
   "metadata": {},
   "source": [
    "## Simulation d'un dé parfait"
   ]
  },
  {
   "cell_type": "code",
   "execution_count": null,
   "metadata": {
    "scrolled": true
   },
   "outputs": [],
   "source": [
    "# seed the random number generator\n",
    "np.random.seed(1)\n",
    "\n",
    "# Example: sampling \n",
    "#\n",
    "# do not forget that Python arrays are zero-indexed,\n",
    "# and the 2nd argument to NumPy arange must be incremented by 1\n",
    "# if you want to include that value\n",
    "n = 6\n",
    "k = 200000\n",
    "T=np.random.choice(np.arange(1, n+1), k, replace=True)\n",
    "unique, counts = np.unique(T, return_counts=True)\n",
    "dic=dict(zip(unique, counts))\n",
    "df=pd.DataFrame(list(dic.items()),columns=['i','Occurence'])\n",
    "df.set_index(['i'], inplace=True)\n",
    "df['Freq']=df['Occurence']/k\n",
    "df['P({i})']='{}'.format(1/6)\n"
   ]
  },
  {
   "cell_type": "markdown",
   "metadata": {},
   "source": [
    "## Ajouter de l'intéraction "
   ]
  },
  {
   "cell_type": "code",
   "execution_count": null,
   "metadata": {},
   "outputs": [],
   "source": [
    "def dice_sim(k=100):\n",
    "    n = 6    \n",
    "    T=np.random.choice(np.arange(1, n+1), k, replace=True)\n",
    "    unique, counts = np.unique(T, return_counts=True)\n",
    "    dic=dict(zip(unique, counts))\n",
    "    df=pd.DataFrame(list(dic.items()),columns=['i','Occurence'])\n",
    "    df.set_index(['i'], inplace=True)\n",
    "    df['Freq']=df['Occurence']/k\n",
    "    df['P({i})']='{0:.3f}'.format(1/6)\n",
    "    return df\n",
    "    "
   ]
  },
  {
   "cell_type": "code",
   "execution_count": null,
   "metadata": {},
   "outputs": [],
   "source": [
    "dice_sim(100)"
   ]
  },
  {
   "cell_type": "code",
   "execution_count": null,
   "metadata": {},
   "outputs": [],
   "source": [
    "interact(dice_sim,k=widgets.IntSlider(min=1000, max=50000, step=500, value=10));"
   ]
  },
  {
   "cell_type": "markdown",
   "metadata": {},
   "source": [
    "## Cas d'un dé truqué"
   ]
  },
  {
   "cell_type": "code",
   "execution_count": null,
   "metadata": {},
   "outputs": [],
   "source": [
    "p=[0.1, 0.1, 0.1, 0.1,0.1,0.5]\n",
    "sum(p)"
   ]
  },
  {
   "cell_type": "code",
   "execution_count": null,
   "metadata": {},
   "outputs": [],
   "source": [
    "def dice_sim(k=100,q=[[0.1, 0.1, 0.1, 0.1,0.1,0.5],[0.2, 0.1, 0.2, 0.1,0.1,0.3]]):\n",
    "    n = 6\n",
    "    qq=q\n",
    "    T=np.random.choice(np.arange(1, n+1), k, replace=True,p=qq)\n",
    "    unique, counts = np.unique(T, return_counts=True)\n",
    "    dic=dict(zip(unique, counts))\n",
    "    df=pd.DataFrame(list(dic.items()),columns=['i','Occurence'])\n",
    "    df.set_index(['i'], inplace=True)\n",
    "    df['Freq']=df['Occurence']/k\n",
    "    df['P({i})']=['{0:.3f}'.format(j) for j in q]\n",
    "    return df"
   ]
  },
  {
   "cell_type": "code",
   "execution_count": null,
   "metadata": {},
   "outputs": [],
   "source": [
    "interact(dice_sim,k=widgets.IntSlider(min=1000, max=50000, step=500, value=10));"
   ]
  },
  {
   "cell_type": "markdown",
   "metadata": {},
   "source": [
    "## Exercice 1: \n",
    "\n",
    "Tester l'intéraction précédente pour plusieurs valeurs de `p`\n",
    "Donner votre conclusion :"
   ]
  },
  {
   "cell_type": "markdown",
   "metadata": {},
   "source": [
    "# Conclusion \n",
    "pour toute valeur de k ,les issues de cette experience(simulation de  dé parfait) ont la meme probabilité (1/6=0.1666)\n",
    "donc on a dans une situation d'equiprobabilité\n"
   ]
  },
  {
   "cell_type": "markdown",
   "metadata": {},
   "source": [
    "## Permutation Aléatoire"
   ]
  },
  {
   "cell_type": "code",
   "execution_count": null,
   "metadata": {},
   "outputs": [],
   "source": [
    "np.random.seed(2)\n",
    "\n",
    "m = 1\n",
    "n = 10\n",
    "\n",
    "v = np.arange(m, n+1)\n",
    "print('v =', v)\n",
    "\n",
    "np.random.shuffle(v)\n",
    "print('v, shuffled =', v)"
   ]
  },
  {
   "cell_type": "markdown",
   "metadata": {},
   "source": [
    "## Exercice 2\n",
    "Vérifier que les permutation aléatoires sont uniforme , c'est à dire que la probabilité de générer une permutation d'élement de {1,2,3} est 1/6.\n",
    "En effet les permutations de {1,2,3} sont :\n",
    "* 1 2 3\n",
    "* 1 3 2\n",
    "* 2 1 3\n",
    "* 2 3 1\n",
    "* 3 1 2\n",
    "* 3 2 1\n"
   ]
  },
  {
   "cell_type": "code",
   "execution_count": null,
   "metadata": {},
   "outputs": [],
   "source": [
    "k =10\n",
    "m = 1\n",
    "n = 3\n",
    "v = np.arange(m, n+1)\n",
    "T=[]\n",
    "for i in range(k):\n",
    "    np.random.shuffle(v)\n",
    "    w=np.copy(v)\n",
    "    T.append(w)"
   ]
  },
  {
   "cell_type": "code",
   "execution_count": null,
   "metadata": {},
   "outputs": [],
   "source": [
    "TT=[str(i) for i in  T]\n",
    "TT"
   ]
  },
  {
   "cell_type": "code",
   "execution_count": null,
   "metadata": {},
   "outputs": [],
   "source": [
    "k =1000\n",
    "m = 1\n",
    "n = 3\n",
    "v = np.arange(m, n+1)\n",
    "T=[]\n",
    "for i in range(k):\n",
    "    np.random.shuffle(v)\n",
    "    w=np.copy(v)\n",
    "    T.append(w)\n",
    "\n",
    "TT=[str(i) for i in  T]\n",
    "unique, counts = np.unique(TT, return_counts=True)\n",
    "dic=dict(zip(unique, counts))\n",
    "df=pd.DataFrame(list(dic.items()),columns=['i','Occurence'])\n",
    "df.set_index(['i'], inplace=True)\n",
    "df['Freq']=df['Occurence']/k\n",
    "df['P({i,j,k})']='{0:.3f}'.format(1/6)\n",
    "df"
   ]
  },
  {
   "cell_type": "markdown",
   "metadata": {},
   "source": [
    "### Donner  votre conclusion en expliquant le script "
   ]
  },
  {
   "cell_type": "code",
   "execution_count": null,
   "metadata": {},
   "outputs": [],
   "source": [
    "## Explication \n",
    "k= nbr de fois qu''on a repeté l''experience\n",
    "n=nbr d''element à permuter\n",
    "on va ajouter toutes les issues possibles de cette experience dans un tableau T puis on va chercher les elements uniques du T \n",
    "et compter le nbr de fois que chaque valeur apparait dans T .\n",
    "puis nous utiliserons un dictionnaire avec une combinaison de fonctions zip pour trouver les valeurs uniques en les \n",
    "convertissant en liste.et enfin on va remplir chaque liste de chaque element unique par nbr d''occurence, frequence et sa\n",
    "probabilité.\n",
    "Dans le cas d''un dé truqué la probabilité est superieure à 1/6 (0.167) .\n",
    "\n",
    "\n",
    "\n",
    "\n",
    "\n"
   ]
  },
  {
   "cell_type": "markdown",
   "metadata": {},
   "source": [
    "## Probabilité conditionnelle "
   ]
  },
  {
   "cell_type": "markdown",
   "metadata": {},
   "source": [
    "Rappelons que l'interprétation fréquentiste de la probabilité conditionnelle basée sur un grand nombre `n` de répétitions d'une expérience est $ P (A | B) ≈ n_ {AB} / n_ {B} $, où $ n_ {AB} $ est le nombre de fois où $ A \\cap B $ se produit et $ n_ {B} $ est le nombre de fois où $ B $ se produit. Essayons cela par simulation et vérifions les résultats de l'exemple 2.2.5. Utilisons donc [`numpy.random.choice`] (https://docs.scipy.org/doc/numpy-1.15.0/reference/generated/numpy.random.choice.html) pour simuler les familles` n`, chacun avec deux enfants.\n"
   ]
  },
  {
   "cell_type": "code",
   "execution_count": null,
   "metadata": {},
   "outputs": [],
   "source": [
    "np.random.seed(34)\n",
    "\n",
    "n = 10**5\n",
    "child1 = np.random.choice([1,2], n, replace=True) \n",
    "child2 = np.random.choice([1,2], n, replace=True) \n",
    "\n",
    "print('child1:\\n{}\\n'.format(child1))\n",
    "\n",
    "print('child2:\\n{}\\n'.format(child2))"
   ]
  },
  {
   "cell_type": "markdown",
   "metadata": {},
   "source": [
    "Ici, «child1» est un «tableau NumPy» de longueur «n», où chaque élément est un 1 ou un 2. En laissant 1 pour «fille» et 2 pour «garçon», ce «tableau» représente le sexe du enfant aîné dans chacune des familles «n». De même, «enfant2» représente le sexe du plus jeune enfant de chaque famille.\n"
   ]
  },
  {
   "cell_type": "code",
   "execution_count": null,
   "metadata": {},
   "outputs": [],
   "source": [
    "np.random.choice([\"girl\", \"boy\"], n, replace=True)"
   ]
  },
  {
   "cell_type": "markdown",
   "metadata": {},
   "source": [
    "mais il est plus pratique de travailler avec des valeurs numériques.\n",
    "\n",
    "Soit $ A $ l'événement où les deux enfants sont des filles et $ B $ l'événement où l'aîné est une fille. Suivant l'interprétation fréquentiste, nous comptons le nombre de répétitions où $ B $ s'est produit et le nommons `n_b`, et nous comptons également le nombre de répétitions où $ A \\cap B $ s'est produit et le nommons` n_ab`. Enfin, nous divisons `n_ab` par` n_b` pour approximer $ P (A | B) $."
   ]
  },
  {
   "cell_type": "code",
   "execution_count": null,
   "metadata": {},
   "outputs": [],
   "source": [
    "n_b = np.sum(child1==1)\n",
    "n_ab = np.sum((child1==1) & (child2==1))\n",
    "\n",
    "print('P(both girls | elder is girl) = {:0.2F}'.format(n_ab / n_b))"
   ]
  },
  {
   "cell_type": "markdown",
   "metadata": {},
   "source": [
    "L'esperluette `&` est un élément par élément $ AND $, donc `n_ab` est le nombre de familles où le premier et le deuxième enfant sont des filles. Lorsque nous avons exécuté ce code, nous avons obtenu 0,50, confirmant notre réponse $ P (\\text {les deux filles | l'aîné est une fille}) = 1/2 $.\n",
    "\n",
    "Soit maintenant $ A $ l'événement où les deux enfants sont des filles et $ B $ l'événement selon lequel au moins l'un des enfants est une fille. Alors $ A \\cap B $ est le même, mais `n_b` doit compter le nombre de familles où au moins un enfant est une fille. Ceci est accompli avec l'opérateur élémentaire $ OR $ `|` (ce n'est pas une barre de conditionnement; c'est un $ OR $ inclusif, retournant `True` si au moins un élément est` True`)."
   ]
  },
  {
   "cell_type": "code",
   "execution_count": null,
   "metadata": {},
   "outputs": [],
   "source": [
    "n_b = np.sum((child1==1) | (child2==2))\n",
    "n_ab = np.sum((child1==1) & (child2==1))\n",
    "\n",
    "print('P(both girls | at least one girl) = {:0.2F}'.format(n_ab / n_b))"
   ]
  },
  {
   "cell_type": "markdown",
   "metadata": {},
   "source": [
    "Pour nous, le résultat était de 0,33, confirmant que $ P (\\text {les deux filles | au moins une fille}) = 1/3 $."
   ]
  }
 ],
 "metadata": {
  "kernelspec": {
   "display_name": "Python 3",
   "language": "python",
   "name": "python3"
  },
  "language_info": {
   "codemirror_mode": {
    "name": "ipython",
    "version": 3
   },
   "file_extension": ".py",
   "mimetype": "text/x-python",
   "name": "python",
   "nbconvert_exporter": "python",
   "pygments_lexer": "ipython3",
   "version": "3.8.8"
  }
 },
 "nbformat": 4,
 "nbformat_minor": 4
}
